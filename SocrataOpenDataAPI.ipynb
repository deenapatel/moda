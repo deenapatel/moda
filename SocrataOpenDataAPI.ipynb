{
 "cells": [
  {
   "cell_type": "markdown",
   "metadata": {},
   "source": [
    "# NYC Open Data API\n",
    "\n",
    "Accessing datasets on Open Data via the Socrata API.\n",
    "\n",
    "## 1. No sign-in required\n",
    "This works for any public dataset."
   ]
  },
  {
   "cell_type": "code",
   "execution_count": 1,
   "metadata": {},
   "outputs": [],
   "source": [
    "import pandas as pd"
   ]
  },
  {
   "cell_type": "code",
   "execution_count": 2,
   "metadata": {},
   "outputs": [
    {
     "data": {
      "text/plain": [
       "(127989, 14)"
      ]
     },
     "execution_count": 2,
     "metadata": {},
     "output_type": "execute_result"
    }
   ],
   "source": [
    "# download master dataset from open data with filters from the last two years\n",
    "\n",
    "url = 'https://data.cityofnewyork.us/resource/bnx9-e6tj.json'\n",
    "filters = \"?$limit=10000000&record_type=A&doc_type=DEED&\\\n",
    "$where=document_date>'2017-02-27T00:00:00.000'\"\n",
    "\n",
    "master = pd.read_json(url+filters)\n",
    "master.shape"
   ]
  },
  {
   "cell_type": "code",
   "execution_count": 3,
   "metadata": {},
   "outputs": [
    {
     "data": {
      "text/html": [
       "<div>\n",
       "<style scoped>\n",
       "    .dataframe tbody tr th:only-of-type {\n",
       "        vertical-align: middle;\n",
       "    }\n",
       "\n",
       "    .dataframe tbody tr th {\n",
       "        vertical-align: top;\n",
       "    }\n",
       "\n",
       "    .dataframe thead th {\n",
       "        text-align: right;\n",
       "    }\n",
       "</style>\n",
       "<table border=\"1\" class=\"dataframe\">\n",
       "  <thead>\n",
       "    <tr style=\"text-align: right;\">\n",
       "      <th></th>\n",
       "      <th>crfn</th>\n",
       "      <th>doc_type</th>\n",
       "      <th>document_amt</th>\n",
       "      <th>document_date</th>\n",
       "      <th>document_id</th>\n",
       "      <th>good_through_date</th>\n",
       "      <th>modified_date</th>\n",
       "      <th>percent_trans</th>\n",
       "      <th>record_type</th>\n",
       "      <th>recorded_borough</th>\n",
       "      <th>recorded_datetime</th>\n",
       "      <th>reel_nbr</th>\n",
       "      <th>reel_pg</th>\n",
       "      <th>reel_yr</th>\n",
       "    </tr>\n",
       "  </thead>\n",
       "  <tbody>\n",
       "    <tr>\n",
       "      <th>0</th>\n",
       "      <td>2017000071949</td>\n",
       "      <td>DEED</td>\n",
       "      <td>1700000.0</td>\n",
       "      <td>2017-03-14T00:00:00.000</td>\n",
       "      <td>2017021600440001</td>\n",
       "      <td>2017-02-28T00:00:00.000</td>\n",
       "      <td>2017-02-22T00:00:00.000</td>\n",
       "      <td>100.0</td>\n",
       "      <td>A</td>\n",
       "      <td>1</td>\n",
       "      <td>2017-02-22T00:00:00.000</td>\n",
       "      <td>0</td>\n",
       "      <td>0</td>\n",
       "      <td>0</td>\n",
       "    </tr>\n",
       "    <tr>\n",
       "      <th>1</th>\n",
       "      <td>2017000108084</td>\n",
       "      <td>DEED</td>\n",
       "      <td>30000.0</td>\n",
       "      <td>2017-03-02T00:00:00.000</td>\n",
       "      <td>2017031700910002</td>\n",
       "      <td>2017-03-31T00:00:00.000</td>\n",
       "      <td>2017-03-20T00:00:00.000</td>\n",
       "      <td>100.0</td>\n",
       "      <td>A</td>\n",
       "      <td>1</td>\n",
       "      <td>2017-03-20T00:00:00.000</td>\n",
       "      <td>0</td>\n",
       "      <td>0</td>\n",
       "      <td>0</td>\n",
       "    </tr>\n",
       "    <tr>\n",
       "      <th>2</th>\n",
       "      <td>2017000123134</td>\n",
       "      <td>DEED</td>\n",
       "      <td>1025000.0</td>\n",
       "      <td>2017-03-23T00:00:00.000</td>\n",
       "      <td>2017032900884001</td>\n",
       "      <td>2017-03-31T00:00:00.000</td>\n",
       "      <td>2017-03-30T00:00:00.000</td>\n",
       "      <td>100.0</td>\n",
       "      <td>A</td>\n",
       "      <td>1</td>\n",
       "      <td>2017-03-30T00:00:00.000</td>\n",
       "      <td>0</td>\n",
       "      <td>0</td>\n",
       "      <td>0</td>\n",
       "    </tr>\n",
       "    <tr>\n",
       "      <th>3</th>\n",
       "      <td>2017000114960</td>\n",
       "      <td>DEED</td>\n",
       "      <td>0.0</td>\n",
       "      <td>2017-03-21T00:00:00.000</td>\n",
       "      <td>2017032301168001</td>\n",
       "      <td>2017-03-31T00:00:00.000</td>\n",
       "      <td>2017-03-24T00:00:00.000</td>\n",
       "      <td>100.0</td>\n",
       "      <td>A</td>\n",
       "      <td>1</td>\n",
       "      <td>2017-03-24T00:00:00.000</td>\n",
       "      <td>0</td>\n",
       "      <td>0</td>\n",
       "      <td>0</td>\n",
       "    </tr>\n",
       "    <tr>\n",
       "      <th>4</th>\n",
       "      <td>2017000105421</td>\n",
       "      <td>DEED</td>\n",
       "      <td>420000.0</td>\n",
       "      <td>2017-03-09T00:00:00.000</td>\n",
       "      <td>2017031300882001</td>\n",
       "      <td>2017-03-31T00:00:00.000</td>\n",
       "      <td>2017-03-17T00:00:00.000</td>\n",
       "      <td>100.0</td>\n",
       "      <td>A</td>\n",
       "      <td>4</td>\n",
       "      <td>2017-03-17T00:00:00.000</td>\n",
       "      <td>0</td>\n",
       "      <td>0</td>\n",
       "      <td>0</td>\n",
       "    </tr>\n",
       "  </tbody>\n",
       "</table>\n",
       "</div>"
      ],
      "text/plain": [
       "            crfn doc_type  document_amt            document_date  \\\n",
       "0  2017000071949     DEED     1700000.0  2017-03-14T00:00:00.000   \n",
       "1  2017000108084     DEED       30000.0  2017-03-02T00:00:00.000   \n",
       "2  2017000123134     DEED     1025000.0  2017-03-23T00:00:00.000   \n",
       "3  2017000114960     DEED           0.0  2017-03-21T00:00:00.000   \n",
       "4  2017000105421     DEED      420000.0  2017-03-09T00:00:00.000   \n",
       "\n",
       "        document_id        good_through_date            modified_date  \\\n",
       "0  2017021600440001  2017-02-28T00:00:00.000  2017-02-22T00:00:00.000   \n",
       "1  2017031700910002  2017-03-31T00:00:00.000  2017-03-20T00:00:00.000   \n",
       "2  2017032900884001  2017-03-31T00:00:00.000  2017-03-30T00:00:00.000   \n",
       "3  2017032301168001  2017-03-31T00:00:00.000  2017-03-24T00:00:00.000   \n",
       "4  2017031300882001  2017-03-31T00:00:00.000  2017-03-17T00:00:00.000   \n",
       "\n",
       "   percent_trans record_type  recorded_borough        recorded_datetime  \\\n",
       "0          100.0           A                 1  2017-02-22T00:00:00.000   \n",
       "1          100.0           A                 1  2017-03-20T00:00:00.000   \n",
       "2          100.0           A                 1  2017-03-30T00:00:00.000   \n",
       "3          100.0           A                 1  2017-03-24T00:00:00.000   \n",
       "4          100.0           A                 4  2017-03-17T00:00:00.000   \n",
       "\n",
       "   reel_nbr  reel_pg  reel_yr  \n",
       "0         0        0        0  \n",
       "1         0        0        0  \n",
       "2         0        0        0  \n",
       "3         0        0        0  \n",
       "4         0        0        0  "
      ]
     },
     "execution_count": 3,
     "metadata": {},
     "output_type": "execute_result"
    }
   ],
   "source": [
    "master.head()"
   ]
  },
  {
   "cell_type": "code",
   "execution_count": null,
   "metadata": {},
   "outputs": [],
   "source": []
  },
  {
   "cell_type": "markdown",
   "metadata": {},
   "source": [
    "## 2. Socrata sign-in required\n",
    "Use this for any private datasets"
   ]
  },
  {
   "cell_type": "code",
   "execution_count": 4,
   "metadata": {},
   "outputs": [],
   "source": [
    "from sodapy import Socrata\n",
    "import opendata as od #storing passwords here\n",
    "\n",
    "def socrata():\n",
    "    '''\n",
    "    return an open data dataset given by uid\n",
    "    needed for datasets that are not public\n",
    "    '''\n",
    "    request = Socrata('nycopendata.socrata.com', od.socrata_key,\n",
    "               username = od.socrata_username,\n",
    "               password = od.socrata_pswd)\n",
    "\n",
    "    return request"
   ]
  },
  {
   "cell_type": "code",
   "execution_count": 5,
   "metadata": {},
   "outputs": [
    {
     "data": {
      "text/plain": [
       "(6138, 23)"
      ]
     },
     "execution_count": 5,
     "metadata": {},
     "output_type": "execute_result"
    }
   ],
   "source": [
    "veh = pd.DataFrame(socrata().get('t73f-7zve',limit=1000000))\n",
    "veh.shape"
   ]
  },
  {
   "cell_type": "code",
   "execution_count": 6,
   "metadata": {},
   "outputs": [
    {
     "data": {
      "text/plain": [
       "accident_date                  6138\n",
       "accident_time                  6138\n",
       "accident_vehicle               6138\n",
       "contributing_factor_1          5883\n",
       "contributing_factor_2          5848\n",
       "driver_license_jurisdiction    4694\n",
       "driver_license_status          4653\n",
       "driver_sex                     4821\n",
       "point_of_impact                5810\n",
       "pre_accident                   5823\n",
       "public_property_damage         6138\n",
       "public_property_damage_type      47\n",
       "state_registration             5587\n",
       "travel_direction               5877\n",
       "unique_key                     6138\n",
       "vehicle_damage                 5768\n",
       "vehicle_damage_1               3699\n",
       "vehicle_damage_2               2813\n",
       "vehicle_damage_3               2172\n",
       "vehicle_make                   5507\n",
       "vehicle_occupants              5664\n",
       "vehicle_type                   5702\n",
       "vehicle_year                   5475\n",
       "dtype: int64"
      ]
     },
     "execution_count": 6,
     "metadata": {},
     "output_type": "execute_result"
    }
   ],
   "source": [
    "veh.count()"
   ]
  },
  {
   "cell_type": "code",
   "execution_count": null,
   "metadata": {},
   "outputs": [],
   "source": []
  },
  {
   "cell_type": "code",
   "execution_count": null,
   "metadata": {},
   "outputs": [],
   "source": []
  },
  {
   "cell_type": "code",
   "execution_count": null,
   "metadata": {},
   "outputs": [],
   "source": []
  }
 ],
 "metadata": {
  "kernelspec": {
   "display_name": "Python 2",
   "language": "python",
   "name": "python2"
  },
  "language_info": {
   "codemirror_mode": {
    "name": "ipython",
    "version": 2
   },
   "file_extension": ".py",
   "mimetype": "text/x-python",
   "name": "python",
   "nbconvert_exporter": "python",
   "pygments_lexer": "ipython2",
   "version": "2.7.17"
  }
 },
 "nbformat": 4,
 "nbformat_minor": 2
}
