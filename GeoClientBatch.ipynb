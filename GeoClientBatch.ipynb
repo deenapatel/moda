{
 "cells": [
  {
   "cell_type": "markdown",
   "id": "terminal-effects",
   "metadata": {},
   "source": [
    "# Using GeoClient to geocode a dataframe\n",
    "\n",
    "single field address input, \n",
    "\n",
    "outputs bin and bbl\n",
    "\n",
    "read the documentation to modify this for different types of inputs\n",
    "https://api.cityofnewyork.us/geoclient/v1/doc\n"
   ]
  },
  {
   "cell_type": "code",
   "execution_count": 1,
   "id": "relative-hanging",
   "metadata": {},
   "outputs": [],
   "source": [
    "import pandas as pd\n",
    "pd.set_option('display.max_rows', 200)\n",
    "\n",
    "import sys\n",
    "from urllib.parse import urlencode\n",
    "from requests import get\n"
   ]
  },
  {
   "cell_type": "code",
   "execution_count": 2,
   "id": "satellite-martin",
   "metadata": {},
   "outputs": [],
   "source": [
    "def geoclientBatch(df,address='address'):\n",
    "    '''\n",
    "    Uses DOITT's GeoClient (the web interface to DCP's GeoSupport)\n",
    "    https://api.cityofnewyork.us/geoclient/v1/doc\n",
    "    Single Field Search input type\n",
    "    \n",
    "    Inputs: df = dataframe to be geocoded, address = the name of the column with the address as a string\n",
    "    Returns the dataframe df with two additional columns: geocodedBBL and geocodedBIN\n",
    "    \n",
    "    '''\n",
    "    path = 'https://api.cityofnewyork.us/geoclient/v1/search.json?app_id=fb9ad04a&app_key=051f93e4125df4bae4f7c57517e62344&'\n",
    "\n",
    "    #warnings.filterwarnings('ignore') #do not display warnings\n",
    "    \n",
    "    def hitGeoC(df):\n",
    "        try:\n",
    "            query = {'input':df[address]}\n",
    "            response = get(path+urlencode(query))\n",
    "            results = response.json()['results'][0]['response']            \n",
    "            BBL = results['bbl']\n",
    "            BIN = results['buildingIdentificationNumber']\n",
    "        except:\n",
    "            e = sys.exc_info()[0]\n",
    "            BBL = ( \"Error: %s\" % e )\n",
    "            BIN = BBL\n",
    "        return BBL,BIN\n",
    "    \n",
    "    df[['geocodedBBL','geocodedBIN']] = df.apply(hitGeoC,axis=1).apply(pd.Series)\n",
    "    return df\n"
   ]
  },
  {
   "cell_type": "code",
   "execution_count": null,
   "id": "corporate-mathematics",
   "metadata": {},
   "outputs": [],
   "source": []
  },
  {
   "cell_type": "code",
   "execution_count": null,
   "id": "about-alberta",
   "metadata": {},
   "outputs": [],
   "source": []
  },
  {
   "cell_type": "code",
   "execution_count": null,
   "id": "legendary-prophet",
   "metadata": {},
   "outputs": [],
   "source": []
  },
  {
   "cell_type": "markdown",
   "id": "declared-depression",
   "metadata": {},
   "source": [
    "# Example\n",
    "\n",
    "Using PLUTO from open data to get a list of addresses to geocode"
   ]
  },
  {
   "cell_type": "code",
   "execution_count": 3,
   "id": "regular-roller",
   "metadata": {},
   "outputs": [
    {
     "data": {
      "text/plain": [
       "(100, 82)"
      ]
     },
     "execution_count": 3,
     "metadata": {},
     "output_type": "execute_result"
    }
   ],
   "source": [
    "url = 'https://data.cityofnewyork.us/resource/64uk-42ks.json'\n",
    "filters = \"?$limit=100\"\n",
    "pluto = pd.read_json(url+filters)\n",
    "pluto.shape"
   ]
  },
  {
   "cell_type": "code",
   "execution_count": 4,
   "id": "outer-former",
   "metadata": {},
   "outputs": [],
   "source": [
    "# format the address field to include the borough\n",
    "\n",
    "borocodeMap = {'MN':'Manhattan','BX':'Bronx','BK':'Brooklyn','QN':'Queens','SI':'Staten Island'}\n",
    "\n",
    "pluto['full address'] = pluto.address+' '+pluto.borough.map(borocodeMap)"
   ]
  },
  {
   "cell_type": "code",
   "execution_count": 5,
   "id": "manufactured-wealth",
   "metadata": {
    "scrolled": true
   },
   "outputs": [
    {
     "data": {
      "text/plain": [
       "(100, 85)"
      ]
     },
     "execution_count": 5,
     "metadata": {},
     "output_type": "execute_result"
    }
   ],
   "source": [
    "# run the pluto dataframe through geoclient and save the resulting dataframe as df\n",
    "df = geoclientBatch(pluto,address='full address')\n",
    "\n",
    "df.shape"
   ]
  },
  {
   "cell_type": "code",
   "execution_count": 9,
   "id": "absolute-birmingham",
   "metadata": {},
   "outputs": [
    {
     "data": {
      "text/html": [
       "<div>\n",
       "<style scoped>\n",
       "    .dataframe tbody tr th:only-of-type {\n",
       "        vertical-align: middle;\n",
       "    }\n",
       "\n",
       "    .dataframe tbody tr th {\n",
       "        vertical-align: top;\n",
       "    }\n",
       "\n",
       "    .dataframe thead th {\n",
       "        text-align: right;\n",
       "    }\n",
       "</style>\n",
       "<table border=\"1\" class=\"dataframe\">\n",
       "  <thead>\n",
       "    <tr style=\"text-align: right;\">\n",
       "      <th></th>\n",
       "      <th>full address</th>\n",
       "      <th>geocodedBBL</th>\n",
       "      <th>geocodedBIN</th>\n",
       "    </tr>\n",
       "  </thead>\n",
       "  <tbody>\n",
       "    <tr>\n",
       "      <th>0</th>\n",
       "      <td>CARLISLE PLACE Bronx</td>\n",
       "      <td>Error: &lt;class 'IndexError'&gt;</td>\n",
       "      <td>Error: &lt;class 'IndexError'&gt;</td>\n",
       "    </tr>\n",
       "    <tr>\n",
       "      <th>1</th>\n",
       "      <td>65 EAST 3 STREET Manhattan</td>\n",
       "      <td>1004450054</td>\n",
       "      <td>1087956</td>\n",
       "    </tr>\n",
       "    <tr>\n",
       "      <th>2</th>\n",
       "      <td>213 EAST 11 STREET Manhattan</td>\n",
       "      <td>1004670055</td>\n",
       "      <td>1006847</td>\n",
       "    </tr>\n",
       "    <tr>\n",
       "      <th>3</th>\n",
       "      <td>636 LEONARD STREET Brooklyn</td>\n",
       "      <td>3026217501</td>\n",
       "      <td>3391860</td>\n",
       "    </tr>\n",
       "    <tr>\n",
       "      <th>4</th>\n",
       "      <td>106 CONVENT AVENUE Manhattan</td>\n",
       "      <td>1019700058</td>\n",
       "      <td>1059630</td>\n",
       "    </tr>\n",
       "    <tr>\n",
       "      <th>5</th>\n",
       "      <td>764 JACKSON AVENUE Bronx</td>\n",
       "      <td>2026460007</td>\n",
       "      <td>2004574</td>\n",
       "    </tr>\n",
       "    <tr>\n",
       "      <th>6</th>\n",
       "      <td>3090 VILLA AVENUE Bronx</td>\n",
       "      <td>2033100022</td>\n",
       "      <td>2017306</td>\n",
       "    </tr>\n",
       "    <tr>\n",
       "      <th>7</th>\n",
       "      <td>1074 OLMSTEAD AVENUE Bronx</td>\n",
       "      <td>2038080006</td>\n",
       "      <td>2115127</td>\n",
       "    </tr>\n",
       "    <tr>\n",
       "      <th>8</th>\n",
       "      <td>CALCUTTA STREET Staten Island</td>\n",
       "      <td>Error: &lt;class 'IndexError'&gt;</td>\n",
       "      <td>Error: &lt;class 'IndexError'&gt;</td>\n",
       "    </tr>\n",
       "    <tr>\n",
       "      <th>9</th>\n",
       "      <td>LAMONT AVENUE Staten Island</td>\n",
       "      <td>Error: &lt;class 'IndexError'&gt;</td>\n",
       "      <td>Error: &lt;class 'IndexError'&gt;</td>\n",
       "    </tr>\n",
       "    <tr>\n",
       "      <th>10</th>\n",
       "      <td>NAMEOKE AVENUE Queens</td>\n",
       "      <td>Error: &lt;class 'IndexError'&gt;</td>\n",
       "      <td>Error: &lt;class 'IndexError'&gt;</td>\n",
       "    </tr>\n",
       "    <tr>\n",
       "      <th>11</th>\n",
       "      <td>147 AUTUMN AVENUE Brooklyn</td>\n",
       "      <td>3041210017</td>\n",
       "      <td>3091819</td>\n",
       "    </tr>\n",
       "    <tr>\n",
       "      <th>12</th>\n",
       "      <td>SHELDON AVENUE Staten Island</td>\n",
       "      <td>Error: &lt;class 'IndexError'&gt;</td>\n",
       "      <td>Error: &lt;class 'IndexError'&gt;</td>\n",
       "    </tr>\n",
       "    <tr>\n",
       "      <th>13</th>\n",
       "      <td>85 CHESTNUT STREET Brooklyn</td>\n",
       "      <td>3041160018</td>\n",
       "      <td>3091560</td>\n",
       "    </tr>\n",
       "    <tr>\n",
       "      <th>14</th>\n",
       "      <td>329 BREHAUT AVENUE Staten Island</td>\n",
       "      <td>5078530018</td>\n",
       "      <td>5149166</td>\n",
       "    </tr>\n",
       "    <tr>\n",
       "      <th>15</th>\n",
       "      <td>67 WATKINS AVENUE Staten Island</td>\n",
       "      <td>5056520047</td>\n",
       "      <td>5075594</td>\n",
       "    </tr>\n",
       "    <tr>\n",
       "      <th>16</th>\n",
       "      <td>56 WEBSTER AVENUE Brooklyn</td>\n",
       "      <td>3054407501</td>\n",
       "      <td>3394067</td>\n",
       "    </tr>\n",
       "    <tr>\n",
       "      <th>17</th>\n",
       "      <td>288 19 STREET Brooklyn</td>\n",
       "      <td>3008857502</td>\n",
       "      <td>3426649</td>\n",
       "    </tr>\n",
       "    <tr>\n",
       "      <th>18</th>\n",
       "      <td>DRUMGOOLE ROAD EAST Staten Island</td>\n",
       "      <td>Error: &lt;class 'IndexError'&gt;</td>\n",
       "      <td>Error: &lt;class 'IndexError'&gt;</td>\n",
       "    </tr>\n",
       "    <tr>\n",
       "      <th>19</th>\n",
       "      <td>1981 SOUTHERN BOULEVARD Bronx</td>\n",
       "      <td>2031170115</td>\n",
       "      <td>2112755</td>\n",
       "    </tr>\n",
       "  </tbody>\n",
       "</table>\n",
       "</div>"
      ],
      "text/plain": [
       "                         full address                  geocodedBBL  \\\n",
       "0                CARLISLE PLACE Bronx  Error: <class 'IndexError'>   \n",
       "1          65 EAST 3 STREET Manhattan                   1004450054   \n",
       "2        213 EAST 11 STREET Manhattan                   1004670055   \n",
       "3         636 LEONARD STREET Brooklyn                   3026217501   \n",
       "4        106 CONVENT AVENUE Manhattan                   1019700058   \n",
       "5            764 JACKSON AVENUE Bronx                   2026460007   \n",
       "6             3090 VILLA AVENUE Bronx                   2033100022   \n",
       "7          1074 OLMSTEAD AVENUE Bronx                   2038080006   \n",
       "8       CALCUTTA STREET Staten Island  Error: <class 'IndexError'>   \n",
       "9         LAMONT AVENUE Staten Island  Error: <class 'IndexError'>   \n",
       "10              NAMEOKE AVENUE Queens  Error: <class 'IndexError'>   \n",
       "11         147 AUTUMN AVENUE Brooklyn                   3041210017   \n",
       "12       SHELDON AVENUE Staten Island  Error: <class 'IndexError'>   \n",
       "13        85 CHESTNUT STREET Brooklyn                   3041160018   \n",
       "14   329 BREHAUT AVENUE Staten Island                   5078530018   \n",
       "15    67 WATKINS AVENUE Staten Island                   5056520047   \n",
       "16         56 WEBSTER AVENUE Brooklyn                   3054407501   \n",
       "17             288 19 STREET Brooklyn                   3008857502   \n",
       "18  DRUMGOOLE ROAD EAST Staten Island  Error: <class 'IndexError'>   \n",
       "19      1981 SOUTHERN BOULEVARD Bronx                   2031170115   \n",
       "\n",
       "                    geocodedBIN  \n",
       "0   Error: <class 'IndexError'>  \n",
       "1                       1087956  \n",
       "2                       1006847  \n",
       "3                       3391860  \n",
       "4                       1059630  \n",
       "5                       2004574  \n",
       "6                       2017306  \n",
       "7                       2115127  \n",
       "8   Error: <class 'IndexError'>  \n",
       "9   Error: <class 'IndexError'>  \n",
       "10  Error: <class 'IndexError'>  \n",
       "11                      3091819  \n",
       "12  Error: <class 'IndexError'>  \n",
       "13                      3091560  \n",
       "14                      5149166  \n",
       "15                      5075594  \n",
       "16                      3394067  \n",
       "17                      3426649  \n",
       "18  Error: <class 'IndexError'>  \n",
       "19                      2112755  "
      ]
     },
     "execution_count": 9,
     "metadata": {},
     "output_type": "execute_result"
    }
   ],
   "source": [
    "df[['full address','geocodedBBL','geocodedBIN']].head(20)"
   ]
  },
  {
   "cell_type": "code",
   "execution_count": null,
   "id": "typical-boulder",
   "metadata": {},
   "outputs": [],
   "source": []
  },
  {
   "cell_type": "code",
   "execution_count": null,
   "id": "bound-denver",
   "metadata": {},
   "outputs": [],
   "source": []
  },
  {
   "cell_type": "code",
   "execution_count": null,
   "id": "bigger-estonia",
   "metadata": {},
   "outputs": [],
   "source": []
  },
  {
   "cell_type": "code",
   "execution_count": null,
   "id": "silent-duration",
   "metadata": {},
   "outputs": [],
   "source": []
  },
  {
   "cell_type": "code",
   "execution_count": null,
   "id": "thorough-character",
   "metadata": {},
   "outputs": [],
   "source": []
  }
 ],
 "metadata": {
  "kernelspec": {
   "display_name": "Python 3",
   "language": "python",
   "name": "python3"
  },
  "language_info": {
   "codemirror_mode": {
    "name": "ipython",
    "version": 3
   },
   "file_extension": ".py",
   "mimetype": "text/x-python",
   "name": "python",
   "nbconvert_exporter": "python",
   "pygments_lexer": "ipython3",
   "version": "3.6.9"
  }
 },
 "nbformat": 4,
 "nbformat_minor": 5
}
